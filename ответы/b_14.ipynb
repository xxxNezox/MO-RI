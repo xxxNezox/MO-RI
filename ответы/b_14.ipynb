{
 "cells": [
  {
   "cell_type": "markdown",
   "metadata": {},
   "source": [
    "1.  Объясните принципы градиентного метода обучения и его важность в обучении \n",
    "нейронных сетей. Каковы ключевые различия и преимущества стохастического \n",
    "градиентного  спуска  (SGD)  по  сравнению  с  традиционным  градиентным \n",
    "спуском? Приведите пример, иллюстрирующий применение SGD в обучении \n",
    "глубоких нейронных сетей. \n",
    "2.  Напишите код на Python, который извлекает глобальные признаки изображения \n",
    "с использованием алгоритма GIST."
   ]
  },
  {
   "cell_type": "markdown",
   "metadata": {},
   "source": [
    "Градиентный спуск — это метод оптимизации, используемый для минимизации функции потерь (loss function) в процессе обучения нейронных сетей. Он основан на вычислении градиента (вектора частных производных) функции потерь по параметрам модели (весам и смещениям).\n",
    "\n",
    "Стохастический градиентный спуск (SGD):\n",
    "\n",
    "- Вычисляет градиент по **одному примеру** (или небольшому мини-батчу) за один шаг.\n",
    "\n",
    "Традиционный градиентный спуск (Batch Gradient Descent):\n",
    "\n",
    "- Вычисляет градиент по **всему набору данных** (batch) за один шаг.\n",
    "\n",
    "SGD широко используется в обучении CNN для задач классификации изображений, где данные часто представлены большими наборами.\n"
   ]
  },
  {
   "cell_type": "code",
   "execution_count": 8,
   "metadata": {},
   "outputs": [
    {
     "name": "stdout",
     "output_type": "stream",
     "text": [
      "Feature Value: 2.9782501300052\n"
     ]
    }
   ],
   "source": [
    "import cv2\n",
    "import numpy as np\n",
    "from skimage.filters import gabor\n",
    "\n",
    "# Загружаем изображение и переводим в градации серого\n",
    "img = cv2.imread(\"./data/image.png\", cv2.IMREAD_GRAYSCALE)\n",
    "\n",
    "# Применяем фильтр Габора\n",
    "real, _ = gabor(img, frequency=0.3)\n",
    "\n",
    "# Извлечение признаков\n",
    "features = real.mean()\n",
    "\n",
    "# Вывод результата\n",
    "print(\"Feature Value:\", features)\n"
   ]
  }
 ],
 "metadata": {
  "kernelspec": {
   "display_name": ".venv",
   "language": "python",
   "name": "python3"
  },
  "language_info": {
   "codemirror_mode": {
    "name": "ipython",
    "version": 3
   },
   "file_extension": ".py",
   "mimetype": "text/x-python",
   "name": "python",
   "nbconvert_exporter": "python",
   "pygments_lexer": "ipython3",
   "version": "3.12.6"
  }
 },
 "nbformat": 4,
 "nbformat_minor": 2
}
